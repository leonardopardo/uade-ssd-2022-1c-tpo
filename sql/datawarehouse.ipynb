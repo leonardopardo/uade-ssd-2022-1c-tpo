{
    "metadata": {
        "kernelspec": {
            "name": "SQL",
            "display_name": "SQL",
            "language": "sql"
        },
        "language_info": {
            "name": "sql",
            "version": ""
        }
    },
    "nbformat_minor": 2,
    "nbformat": 4,
    "cells": [
        {
            "cell_type": "markdown",
            "source": [
                "# Generate Database"
            ],
            "metadata": {
                "azdata_cell_guid": "912d7172-45f1-4a78-8a0b-b4be4dfb246c",
                "language": ""
            },
            "attachments": {}
        },
        {
            "cell_type": "markdown",
            "source": [
                "### Drop and Create Database"
            ],
            "metadata": {
                "azdata_cell_guid": "941a9f61-b47f-46ec-8229-f88e8d21a203"
            },
            "attachments": {}
        },
        {
            "cell_type": "code",
            "source": [
                "USE [master]\r\n",
                "DROP DATABASE IF EXISTS DW2022\r\n",
                "CREATE DATABASE DW2022\r\n",
                "GO\r\n",
                ""
            ],
            "metadata": {
                "azdata_cell_guid": "9653bd21-9fe6-4146-8a11-7c5f17338c46",
                "language": "sql",
                "tags": [
                    "hide_input"
                ]
            },
            "outputs": [],
            "execution_count": null
        },
        {
            "cell_type": "markdown",
            "source": [
                "### Drop and Create Schema"
            ],
            "metadata": {
                "azdata_cell_guid": "3de4ffd8-0ceb-4e2e-a7d3-61a69bd2363f"
            },
            "attachments": {}
        },
        {
            "cell_type": "code",
            "source": [
                "USE [DW2022]\r\n",
                "\r\n",
                "DROP SCHEMA IF EXISTS [DW]\r\n",
                "GO\r\n",
                "\r\n",
                "CREATE SCHEMA [DW]\r\n",
                "GO"
            ],
            "metadata": {
                "azdata_cell_guid": "bcb94758-3e55-400a-9e22-85f9a6bfd6f9",
                "language": "sql",
                "tags": [
                    "hide_input"
                ]
            },
            "outputs": [],
            "execution_count": null
        },
        {
            "cell_type": "markdown",
            "source": [
                "### Dimensions"
            ],
            "metadata": {
                "language": "sql",
                "azdata_cell_guid": "08d765d2-2c57-4eef-babd-559de494b8d5"
            },
            "attachments": {}
        },
        {
            "cell_type": "code",
            "source": [
                "-- drop dimension dim_curso\r\n",
                "DROP TABLE IF EXISTS [DW2022].[DW].[dim_curso]\r\n",
                "GO"
            ],
            "metadata": {
                "language": "sql",
                "azdata_cell_guid": "ad05ad70-1f6d-4b72-aeec-9653ef898a3b",
                "tags": [
                    "hide_input"
                ]
            },
            "outputs": [],
            "execution_count": null
        },
        {
            "cell_type": "code",
            "source": [
                "-- create dimension dim_curso\r\n",
                "IF NOT EXISTS (SELECT [name] FROM sys.tables WHERE [name] = 'dim_curso')\r\n",
                "CREATE TABLE [DW2022].[DW].[dim_curso](\r\n",
                "    [id]            INT IDENTITY(1,1) NOT NULL,\r\n",
                "    [codigo]        VARCHAR(50) NOT NULL,\r\n",
                "    [titulo]        VARCHAR(255) NOT NULL,\r\n",
                "    [capacidad]     INT NOT NULL,\r\n",
                "    [modalidad]     CHAR NOT NULL,\r\n",
                "    [fechaInicio]   DATE NULL,\r\n",
                "    [fechaFin]      DATE NULL,\r\n",
                "    CONSTRAINT [PK_Curso_Id] PRIMARY KEY NONCLUSTERED (id)\r\n",
                ")\r\n",
                "GO"
            ],
            "metadata": {
                "language": "sql",
                "azdata_cell_guid": "379bbe5c-70d2-4f60-beda-1f582097ca5b",
                "tags": [
                    "hide_input"
                ]
            },
            "outputs": [],
            "execution_count": null
        },
        {
            "cell_type": "code",
            "source": [
                "-- drop dimension dim_sala\r\n",
                "DROP TABLE IF EXISTS [DW2022].[DW].[dim_sala]\r\n",
                "GO"
            ],
            "metadata": {
                "language": "sql",
                "azdata_cell_guid": "36863ce6-d1b4-4cfe-ba3c-64c18c0fa88e",
                "tags": [
                    "hide_input"
                ]
            },
            "outputs": [
                {
                    "output_type": "display_data",
                    "data": {
                        "text/html": "Commands completed successfully."
                    },
                    "metadata": {}
                },
                {
                    "output_type": "display_data",
                    "data": {
                        "text/html": "Total execution time: 00:00:00.010"
                    },
                    "metadata": {}
                }
            ],
            "execution_count": 23
        },
        {
            "cell_type": "code",
            "source": [
                "-- create dimension dim_sala\r\n",
                "IF NOT EXISTS (SELECT * FROM sys.tables WHERE [name] = 'dim_sala')\r\n",
                "CREATE TABLE [DW2022].[DW].[dim_sala](\r\n",
                "    [id]        INT IDENTITY(1,1) NOT NULL,\r\n",
                "    [codigo]    VARCHAR(50) NOT NULL,\r\n",
                "    [ubicacion] VARCHAR(50) NOT NULL,\r\n",
                "    [nombre]    VARCHAR(255) NOT NULL,\r\n",
                "    [tipo]      VARCHAR(10) NOT NULL,\r\n",
                "    [asientos]  INT NOT NULL,\r\n",
                "    [fecha_inicio] DATETIME NULL,\r\n",
                "    [fecha_fin]    DATETIME NULL,\r\n",
                "    CONSTRAINT [PK_Sala_Id] PRIMARY KEY NONCLUSTERED (id)\r\n",
                ")\r\n",
                "GO"
            ],
            "metadata": {
                "language": "sql",
                "azdata_cell_guid": "c94fa191-0f71-4f06-9ace-e1486a8a95c5",
                "tags": []
            },
            "outputs": [
                {
                    "output_type": "display_data",
                    "data": {
                        "text/html": "Commands completed successfully."
                    },
                    "metadata": {}
                },
                {
                    "output_type": "display_data",
                    "data": {
                        "text/html": "Total execution time: 00:00:00.023"
                    },
                    "metadata": {}
                }
            ],
            "execution_count": 24
        },
        {
            "cell_type": "code",
            "source": [
                "-- drop dimension dim_profesor\r\n",
                "DROP TABLE IF EXISTS [DW2022].[DW].[dim_profesor]\r\n",
                "GO"
            ],
            "metadata": {
                "language": "sql",
                "azdata_cell_guid": "de4939f1-3a12-4575-8477-e15354eb2780",
                "tags": [
                    "hide_input"
                ]
            },
            "outputs": [],
            "execution_count": null
        },
        {
            "cell_type": "code",
            "source": [
                "-- create dimension dim_profesor\r\n",
                "IF NOT EXISTS (SELECT * FROM sys.tables WHERE [name] = 'dim_profesor')\r\n",
                "CREATE TABLE [DW2022].[DW].[dim_profesor](\r\n",
                "    [id]                    INT IDENTITY(1,1) NOT NULL,\r\n",
                "    [codigo]                VARCHAR(50) NOT NULL,\r\n",
                "    [nombre]                VARCHAR(255) NOT NULL,\r\n",
                "    [fechaNacimiento]       INT NOT NULL,\r\n",
                "    [cantidadGrupoFamiliar] INT NOT NULL,\r\n",
                "    [cantidadHijos]         INT NOT NULL,\r\n",
                "    [comision]              FLOAT NOT NULL,\r\n",
                "    [razon]                 FLOAT NOT NULL,\r\n",
                "    [zip]                   VARCHAR(50) NOT NULL,  \r\n",
                "    [estado]                VARCHAR(255) NOT NULL,\r\n",
                "    [ciudad]                VARCHAR(255) NOT NULL,\r\n",
                "    [calle]                 VARCHAR(255) NOT NULL,\r\n",
                "    [fechaInicio]           DATE NOT NULL,\r\n",
                "    [fechaFin]              DATE NOT NULL\r\n",
                "    CONSTRAINT [PK_Profesor_Id] PRIMARY KEY NONCLUSTERED (id)\r\n",
                ")\r\n",
                "GO"
            ],
            "metadata": {
                "language": "sql",
                "azdata_cell_guid": "be2edfe3-80b3-4144-b485-7bb33bce2f56",
                "tags": [
                    "hide_input"
                ]
            },
            "outputs": [],
            "execution_count": null
        },
        {
            "cell_type": "code",
            "source": [
                "-- drop dimension dim_tiempo\r\n",
                "DROP TABLE IF EXISTS [DW2022].[DW].[dim_tiempo]\r\n",
                "GO"
            ],
            "metadata": {
                "language": "sql",
                "azdata_cell_guid": "e71bc505-69f5-413a-bba5-e8b5240c6c65",
                "tags": [
                    "hide_input"
                ]
            },
            "outputs": [],
            "execution_count": null
        },
        {
            "cell_type": "code",
            "source": [
                "-- create dimension dim_tiempo\r\n",
                "IF NOT EXISTS (SELECT * FROM sys.tables WHERE [name] = 'dim_tiempo')\r\n",
                "CREATE TABLE [DW2022].[DW].[dim_tiempo](\r\n",
                "    [id]    INT IDENTITY(1,1) NOT NULL,\r\n",
                "    [fecha] DATETIME NOT NULL,\r\n",
                "    [diaNombre] VARCHAR(20) NOT NULL,\r\n",
                "    [anio]  SMALLINT NOT NULL,\r\n",
                "    [temporada] VARCHAR(15) NOT NULL\r\n",
                "    CONSTRAINT [PK_Tiempo_Id] PRIMARY KEY NONCLUSTERED (id)\r\n",
                ")\r\n",
                "GO"
            ],
            "metadata": {
                "language": "sql",
                "azdata_cell_guid": "0817c569-723a-4d3e-90b0-62c92335601f",
                "tags": [
                    "hide_input"
                ]
            },
            "outputs": [],
            "execution_count": null
        },
        {
            "cell_type": "markdown",
            "source": [
                "Fact Tables"
            ],
            "metadata": {
                "language": "sql",
                "azdata_cell_guid": "b01b7530-e86d-4305-ad6e-c436e6675d4d"
            },
            "attachments": {}
        },
        {
            "cell_type": "code",
            "source": [
                "-- drop fact_inscripciones\r\n",
                "DROP TABLE IF EXISTS [DW2022].[DW].[fact_inscripciones]\r\n",
                "GO"
            ],
            "metadata": {
                "language": "sql",
                "azdata_cell_guid": "06c71310-e482-4297-a002-be7efc0f42ce",
                "tags": [
                    "hide_input"
                ]
            },
            "outputs": [],
            "execution_count": null
        },
        {
            "cell_type": "code",
            "source": [
                "-- create fact_inscripciones\r\n",
                "IF NOT EXISTS (SELECT * FROM sys.tables WHERE [name] = 'fact_inscripciones')\r\n",
                "CREATE TABLE [DW2022].[DW].[fact_inscripciones](\r\n",
                "    [cursoId]       INT NOT NULL,\r\n",
                "    [salaId]        INT NOT NULL,\r\n",
                "    [profesorId]    INT NOT NULL,\r\n",
                "    [tiempoId]      INT NOT NULL,\r\n",
                "    [inscriptosM]   INT NOT NULL,\r\n",
                "    [inscriptosF]   INT NOT NULL,\r\n",
                "    [inscriptosT]   INT NOT NULL,\r\n",
                "    CONSTRAINT [Fk_Curso_Id] FOREIGN KEY ([cursoId]) REFERENCES [DW2022].[DW].[dim_curso](id),\r\n",
                "    CONSTRAINT [Fk_Sala_Id] FOREIGN KEY ([salaId]) REFERENCES [DW2022].[DW].[dim_sala](id),\r\n",
                "    CONSTRAINT [Fk_Profesor_Id] FOREIGN KEY ([profesorId]) REFERENCES [DW2022].[DW].[dim_profesor](id),\r\n",
                "    CONSTRAINT [Fk_Tiempo_Id] FOREIGN KEY ([tiempoId]) REFERENCES [DW2022].[DW].[dim_tiempo](id),\r\n",
                ")"
            ],
            "metadata": {
                "language": "sql",
                "azdata_cell_guid": "7903e883-375e-4174-8bf1-4dedb47d453f",
                "tags": [
                    "hide_input"
                ]
            },
            "outputs": [],
            "execution_count": null
        }
    ]
}