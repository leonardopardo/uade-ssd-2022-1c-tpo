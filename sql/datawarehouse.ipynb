{
    "metadata": {
        "kernelspec": {
            "name": "SQL",
            "display_name": "SQL",
            "language": "sql"
        },
        "language_info": {
            "name": "sql",
            "version": ""
        }
    },
    "nbformat_minor": 2,
    "nbformat": 4,
    "cells": [
        {
            "cell_type": "markdown",
            "source": [
                "# Generate Database"
            ],
            "metadata": {
                "azdata_cell_guid": "912d7172-45f1-4a78-8a0b-b4be4dfb246c",
                "language": ""
            },
            "attachments": {}
        },
        {
            "cell_type": "markdown",
            "source": [
                "## Database"
            ],
            "metadata": {
                "azdata_cell_guid": "941a9f61-b47f-46ec-8229-f88e8d21a203"
            },
            "attachments": {}
        },
        {
            "cell_type": "code",
            "source": [
                "USE [master]\r\n",
                "DROP DATABASE IF EXISTS DW2022\r\n",
                "CREATE DATABASE DW2022\r\n",
                "GO\r\n",
                ""
            ],
            "metadata": {
                "azdata_cell_guid": "9653bd21-9fe6-4146-8a11-7c5f17338c46",
                "language": "sql",
                "tags": []
            },
            "outputs": [],
            "execution_count": null
        },
        {
            "cell_type": "markdown",
            "source": [
                "## Esquema"
            ],
            "metadata": {
                "azdata_cell_guid": "3de4ffd8-0ceb-4e2e-a7d3-61a69bd2363f"
            },
            "attachments": {}
        },
        {
            "cell_type": "code",
            "source": [
                "-- DW schema\r\n",
                "USE [DW2022]\r\n",
                "\r\n",
                "DROP SCHEMA IF EXISTS [DW]\r\n",
                "GO\r\n",
                "\r\n",
                "CREATE SCHEMA [DW]\r\n",
                "GO"
            ],
            "metadata": {
                "azdata_cell_guid": "bcb94758-3e55-400a-9e22-85f9a6bfd6f9",
                "language": "sql",
                "tags": []
            },
            "outputs": [],
            "execution_count": null
        },
        {
            "cell_type": "code",
            "source": [
                "-- STG schema\r\n",
                "USE [DW2022]\r\n",
                "\r\n",
                "DROP SCHEMA IF EXISTS [STG]\r\n",
                "GO\r\n",
                "\r\n",
                "CREATE SCHEMA [STG]\r\n",
                "GO"
            ],
            "metadata": {
                "language": "sql",
                "azdata_cell_guid": "f4bfb5fb-3de7-428c-b813-c13fd4dcfe6c",
                "tags": []
            },
            "outputs": [],
            "execution_count": null
        },
        {
            "cell_type": "markdown",
            "source": [
                "## Dimensiones"
            ],
            "metadata": {
                "language": "sql",
                "azdata_cell_guid": "08d765d2-2c57-4eef-babd-559de494b8d5"
            },
            "attachments": {}
        },
        {
            "cell_type": "code",
            "source": [
                "-- drop dimension dim_curso\r\n",
                "DROP TABLE IF EXISTS [DW2022].[DW].[dim_curso]\r\n",
                "GO"
            ],
            "metadata": {
                "language": "sql",
                "azdata_cell_guid": "ad05ad70-1f6d-4b72-aeec-9653ef898a3b",
                "tags": []
            },
            "outputs": [],
            "execution_count": null
        },
        {
            "cell_type": "code",
            "source": [
                "-- create dimension dim_curso\r\n",
                "IF NOT EXISTS (SELECT [name] FROM sys.tables WHERE [name] = 'dim_curso')\r\n",
                "CREATE TABLE [DW2022].[DW].[dim_curso](\r\n",
                "    [id]            INT IDENTITY(1,1) NOT NULL,\r\n",
                "    [codigo]        NVARCHAR(50) NOT NULL,\r\n",
                "    [titulo]        NVARCHAR(255) NOT NULL,\r\n",
                "    [capacidad]     INT NOT NULL,\r\n",
                "    [temporada]     VARCHAR(20) NOT NULL,\r\n",
                "    [periodo]       INT NOT NULL,\r\n",
                "    [fechaInicio]   DATETIME NULL,\r\n",
                "    [fechaFin]      DATETIME NULL,\r\n",
                "    CONSTRAINT [PK_Curso_Id] PRIMARY KEY NONCLUSTERED (id)\r\n",
                ")\r\n",
                "GO"
            ],
            "metadata": {
                "language": "sql",
                "azdata_cell_guid": "379bbe5c-70d2-4f60-beda-1f582097ca5b",
                "tags": []
            },
            "outputs": [],
            "execution_count": null
        },
        {
            "cell_type": "code",
            "source": [
                "-- drop dimension dim_sala\r\n",
                "DROP TABLE IF EXISTS [DW2022].[DW].[dim_sala]\r\n",
                "GO"
            ],
            "metadata": {
                "language": "sql",
                "azdata_cell_guid": "36863ce6-d1b4-4cfe-ba3c-64c18c0fa88e",
                "tags": []
            },
            "outputs": [],
            "execution_count": null
        },
        {
            "cell_type": "code",
            "source": [
                "-- create dimension dim_sala\r\n",
                "IF NOT EXISTS (SELECT * FROM sys.tables WHERE [name] = 'dim_sala')\r\n",
                "CREATE TABLE [DW2022].[DW].[dim_sala](\r\n",
                "    [id]            INT IDENTITY(1,1) NOT NULL,\r\n",
                "    [codigo]        VARCHAR(50) NOT NULL,\r\n",
                "    [ubicacion]     VARCHAR(50) NOT NULL,\r\n",
                "    [nombre]        VARCHAR(255) NOT NULL,\r\n",
                "    [tipo]          VARCHAR(10) NOT NULL,\r\n",
                "    [asientos]      INT NOT NULL,\r\n",
                "    [fecha_inicio]   DATETIME NULL,\r\n",
                "    [fecha_fin]      DATETIME NULL,\r\n",
                "    CONSTRAINT [PK_Sala_Id] PRIMARY KEY NONCLUSTERED (id)\r\n",
                ")\r\n",
                "GO"
            ],
            "metadata": {
                "language": "sql",
                "azdata_cell_guid": "c94fa191-0f71-4f06-9ace-e1486a8a95c5",
                "tags": []
            },
            "outputs": [],
            "execution_count": null
        },
        {
            "cell_type": "code",
            "source": [
                "-- drop dimension dim_profesor\r\n",
                "DROP TABLE IF EXISTS [DW2022].[DW].[dim_profesor]\r\n",
                "GO"
            ],
            "metadata": {
                "language": "sql",
                "azdata_cell_guid": "de4939f1-3a12-4575-8477-e15354eb2780",
                "tags": []
            },
            "outputs": [],
            "execution_count": null
        },
        {
            "cell_type": "code",
            "source": [
                "-- create dimension dim_profesor\r\n",
                "IF NOT EXISTS (SELECT * FROM sys.tables WHERE [name] = 'dim_profesor')\r\n",
                "CREATE TABLE [DW2022].[DW].[dim_profesor](\r\n",
                "    [id]                        INT IDENTITY(1,1) NOT NULL,\r\n",
                "    [nombre]                    VARCHAR(255) UNIQUE NOT NULL,\r\n",
                "    [fecha_contratacion]        DATETIME NOT NULL,\r\n",
                "    [fecha_nacimiento]          INT NOT NULL,\r\n",
                "    [cantidad_grupo_familiar]   INT NOT NULL,\r\n",
                "    [cantidad_hijos]            INT NOT NULL,\r\n",
                "    [comision]                  FLOAT NOT NULL,\r\n",
                "    [razon]                     FLOAT NOT NULL,\r\n",
                "    [zip]                       VARCHAR(50) NOT NULL,  \r\n",
                "    [estado]                    VARCHAR(255) NOT NULL,\r\n",
                "    [ciudad]                    VARCHAR(255) NOT NULL,\r\n",
                "    [calle]                     VARCHAR(255) NOT NULL,\r\n",
                "    [fecha_inicio]              DATETIME NULL,\r\n",
                "    [fecha_fin]                 DATETIME NULL\r\n",
                "    CONSTRAINT [PK_Profesor_Id] PRIMARY KEY NONCLUSTERED (id)\r\n",
                ")\r\n",
                "GO"
            ],
            "metadata": {
                "language": "sql",
                "azdata_cell_guid": "be2edfe3-80b3-4144-b485-7bb33bce2f56",
                "tags": []
            },
            "outputs": [],
            "execution_count": null
        },
        {
            "cell_type": "code",
            "source": [
                "-- drop dimension dim_tiempo\r\n",
                "DROP TABLE IF EXISTS [DW2022].[DW].[dim_tiempo]\r\n",
                "GO"
            ],
            "metadata": {
                "language": "sql",
                "azdata_cell_guid": "e71bc505-69f5-413a-bba5-e8b5240c6c65",
                "tags": []
            },
            "outputs": [],
            "execution_count": null
        },
        {
            "cell_type": "code",
            "source": [
                "-- create dimension dim_tiempo\r\n",
                "IF NOT EXISTS (SELECT * FROM sys.tables WHERE [name] = 'dim_tiempo')\r\n",
                "CREATE TABLE [DW2022].[DW].[dim_tiempo](\r\n",
                "    [Id]         INT NOT NULL,\r\n",
                "    [Fecha]      DATETIME NOT NULL,\r\n",
                "    [Anio]       SMALLINT NOT NULL,\r\n",
                "    [Semestre]   SMALLINT NOT NULL,\r\n",
                "    [Trimestre]  SMALLINT NOT NULL,\t  \r\n",
                "    [Mes]        SMALLINT NOT NULL,\r\n",
                "    [Semana]     SMALLINT NOT NULL,\r\n",
                "    [Dia]        SMALLINT NOT NULL,\r\n",
                "    [DiaSemana]  SMALLINT NOT NULL,\r\n",
                "    [NSemestre]  VARCHAR(15) NOT NULL,\r\n",
                "    [NTrimestre] VARCHAR(15) NOT NULL,\r\n",
                "    [NMes]       VARCHAR(15) NOT NULL,\r\n",
                "    [NMes3L]     VARCHAR(15) NOT NULL,\r\n",
                "    [NSemana]    VARCHAR(15) NOT NULL,\r\n",
                "    [NDia]       VARCHAR(15) NOT NULL,\r\n",
                "    [NDiaSemana] VARCHAR(15) NOT NULL,\r\n",
                "    [Temporada]  VARCHAR(15) NOT NULL,\r\n",
                "    CONSTRAINT [PK_Tiempo_Id] PRIMARY KEY NONCLUSTERED (Id)\r\n",
                ")\r\n",
                "GO\r\n",
                ""
            ],
            "metadata": {
                "language": "sql",
                "azdata_cell_guid": "0817c569-723a-4d3e-90b0-62c92335601f",
                "tags": []
            },
            "outputs": [],
            "execution_count": null
        },
        {
            "cell_type": "code",
            "source": [
                "-- sp pupulate dimension tiempo\r\n",
                "USE [DW2022]\r\n",
                "GO\r\n",
                "\r\n",
                "CREATE OR ALTER PROCEDURE sp_pop_dim_tiempo @desde AS CHAR(8), @hasta AS CHAR(8)\r\n",
                "AS\r\n",
                "BEGIN\r\n",
                "\r\n",
                "    IF(SELECT COUNT(1) FROM [DW2022].[DW].[dim_tiempo]) <> 0 BEGIN\r\n",
                "        RETURN\r\n",
                "    END\r\n",
                "\r\n",
                "    DECLARE @FechaDesde as datetime, @FechaHasta as datetime\r\n",
                "    DECLARE @FechaAAAAMMDD int\r\n",
                "    DECLARE @Anio as smallint,@Semestre as smallint, @Trimestre smallint, @Mes smallint\r\n",
                "    DECLARE @Semana smallint, @Dia smallint, @DiaSemana smallint\r\n",
                "    DECLARE @NSemestre varchar(15), @NTrimestre varchar(15), @NMes varchar(15)\r\n",
                "    DECLARE @NMes3l varchar(15)\r\n",
                "    DECLARE @NSemana varchar(15), @NDia varchar(15), @NDiaSemana varchar(15)\r\n",
                "    DECLARE @Temporada varchar(15)\r\n",
                "    \r\n",
                "    --Set inicial por si no coincide con los del servidor\r\n",
                "    SET DATEFORMAT DMY;\r\n",
                "\r\n",
                "    SELECT @FechaDesde = CAST(@desde AS Datetime)\r\n",
                "    SELECT @FechaHasta = CAST(@hasta AS Datetime)\r\n",
                "\r\n",
                "    WHILE (@FechaDesde <= @FechaHasta) BEGIN\r\n",
                "        SELECT @FechaAAAAMMDD = YEAR(@FechaDesde)*10000 + MONTH(@FechaDesde)*100 + DATEPART(dd, @FechaDesde)\r\n",
                "        SELECT @Anio = DATEPART(yy, @FechaDesde)\r\n",
                "        SELECT @Semestre=((DATEPART(quarter,@FechaDesde)-1)/2)+1\r\n",
                "        SELECT @Trimestre = DATEPART(qq, @FechaDesde)\r\n",
                "        SELECT @Mes = DATEPART(m, @FechaDesde)\r\n",
                "        SELECT @Semana = DATEPART(wk, @FechaDesde)\r\n",
                "        SELECT @Dia = RIGHT('0' + DATEPART(dd, @FechaDesde),2)\r\n",
                "        SELECT @DiaSemana = DATEPART(DW, @FechaDesde)\r\n",
                "        SELECT @NMes = DATENAME(mm, @FechaDesde)\r\n",
                "        SELECT @NMes3l = LEFT(@NMes, 3)\r\n",
                "        SELECT @NSemestre=concat('Semestre ',@SEMESTRE)\r\n",
                "        SELECT @NTrimestre = 'T' + CAST(@Trimestre as CHAR(1)) + '/' + RIGHT(@Anio, 2)\r\n",
                "        SELECT @NSemana = 'Sem ' + CAST(@Semana AS CHAR(2)) + '/' + RIGHT(RTRIM(CAST(@Anio as CHAR(4))),2)\r\n",
                "        SELECT @NDia = CAST(@Dia as CHAR(2)) + ' ' + RTRIM(@NMes)\r\n",
                "        SELECT @NDiaSemana = DATENAME(dw, @FechaDesde)\r\n",
                "\r\n",
                "\r\n",
                "\r\n",
                "        SELECT @Temporada = case \r\n",
                "                                when month(@FechaDesde) in (12, 1, 2) then 'WINTER'\r\n",
                "                                when month(@FechaDesde) in (3, 4, 5) then 'SPRING'\r\n",
                "                                when month(@FechaDesde) in (6, 7, 8) then 'SUMMER'\r\n",
                "                                when month(@FechaDesde) in (9, 10, 11) then 'FALL'\r\n",
                "                            end\r\n",
                "        \r\n",
                "        INSERT INTO [DW2022].[DW].[dim_tiempo]\r\n",
                "        (\r\n",
                "            [Id],\r\n",
                "            [Fecha],\r\n",
                "            [Anio],\r\n",
                "            [Semestre],\r\n",
                "            [Trimestre],\r\n",
                "            [Mes],\r\n",
                "            [Semana],\r\n",
                "            [Dia],\r\n",
                "            [DiaSemana],\r\n",
                "            [NSemestre],\r\n",
                "            [NTrimestre],\r\n",
                "            [NMes],\r\n",
                "            [NMes3L],\r\n",
                "            [NSemana],\r\n",
                "            [NDia],\r\n",
                "            [NDiaSemana],\r\n",
                "            [Temporada]\r\n",
                "        ) \r\n",
                "        VALUES\r\n",
                "        (\r\n",
                "            @FechaAAAAMMDD,\r\n",
                "            @FechaDesde,\r\n",
                "            @Anio,\r\n",
                "            @Semestre,\r\n",
                "            @Trimestre,\r\n",
                "            @Mes,\r\n",
                "            @Semana,\r\n",
                "            @Dia,\r\n",
                "            @DiaSemana,\r\n",
                "            @NSemestre,\r\n",
                "            @NTrimestre,\r\n",
                "            @NMes,\r\n",
                "            @NMes3l,\r\n",
                "            @NSemana,\r\n",
                "            @NDia,\r\n",
                "            @NDiaSemana,\r\n",
                "            @Temporada\r\n",
                "        )\r\n",
                "    \r\n",
                "        --Incremento del bucle\r\n",
                "        SELECT @FechaDesde = DATEADD(DAY, 1, @FechaDesde)\r\n",
                "    END    \r\n",
                "END"
            ],
            "metadata": {
                "language": "sql",
                "azdata_cell_guid": "bf660974-5349-4904-bc2f-a3e34ceaac41",
                "tags": []
            },
            "outputs": [],
            "execution_count": null
        },
        {
            "cell_type": "code",
            "source": [
                "-- drop dimension dim_time\r\n",
                "DROP TABLE IF EXISTS [DW2022].[DW].[dim_time]\r\n",
                "GO"
            ],
            "metadata": {
                "language": "sql",
                "azdata_cell_guid": "4a6a5108-592f-4aa6-a106-bb9def4b37f6",
                "tags": []
            },
            "outputs": [],
            "execution_count": null
        },
        {
            "cell_type": "code",
            "source": [
                "-- create dimension dim_tiempo\r\n",
                "IF NOT EXISTS (SELECT * FROM sys.tables WHERE [name] = 'dim_time')\r\n",
                "CREATE TABLE [DW2022].[DW].[dim_time](\r\n",
                "    [Id]         INT IDENTITY(1,1) NOT NULL,\r\n",
                "    [Anio]       SMALLINT NOT NULL,\r\n",
                "    [Temporada]  VARCHAR(15) NOT NULL,\r\n",
                "    CONSTRAINT [PK_Tiempo_Id] PRIMARY KEY NONCLUSTERED (Id)\r\n",
                ")\r\n",
                "GO"
            ],
            "metadata": {
                "language": "sql",
                "azdata_cell_guid": "7b7251c6-c4b7-4708-af49-d376de3a05f5",
                "tags": []
            },
            "outputs": [],
            "execution_count": null
        },
        {
            "cell_type": "code",
            "source": [
                "-- sp pupulate dimension time\r\n",
                "USE [DW2022]\r\n",
                "GO\r\n",
                "\r\n",
                "CREATE OR ALTER PROCEDURE sp_pop_dim_tiempo_simple @desde AS INT, @hasta AS INT\r\n",
                "AS\r\n",
                "BEGIN\r\n",
                "\r\n",
                "    IF(SELECT COUNT(1) FROM [DW2022].[DW].[dim_time]) <> 0 BEGIN\r\n",
                "        RETURN\r\n",
                "    END\r\n",
                "\r\n",
                "    DECLARE @i INT, @Anio INT\r\n",
                "    DECLARE @Temporada VARCHAR(15)\r\n",
                "    \r\n",
                "    SET @i = 1\r\n",
                "\r\n",
                "    WHILE (@desde < @hasta)  BEGIN\r\n",
                "        SET @Anio = @desde\r\n",
                "        WHILE(@i <= 4) BEGIN\r\n",
                "            SELECT @Temporada = CASE \r\n",
                "                                    WHEN @i = 1 THEN 'WINTER'\r\n",
                "                                    WHEN @i = 2 THEN 'SPRING'\r\n",
                "                                    WHEN @i = 3 THEN 'SUMMER'\r\n",
                "                                    WHEN @i = 4 THEN 'FALL'\r\n",
                "                                END\r\n",
                "            \r\n",
                "            INSERT INTO [DW2022].[DW].[dim_time]\r\n",
                "            (\r\n",
                "                [Anio],\r\n",
                "                [Temporada]\r\n",
                "            ) \r\n",
                "            VALUES\r\n",
                "            (\r\n",
                "                @Anio,\r\n",
                "                @Temporada\r\n",
                "            )\r\n",
                "    \r\n",
                "            SET @i = @i + 1\r\n",
                "        END\r\n",
                "        \r\n",
                "        SET @i = 1\r\n",
                "        SET @desde = @desde + 1\r\n",
                "    END    \r\n",
                "END"
            ],
            "metadata": {
                "language": "sql",
                "azdata_cell_guid": "52400cd3-5795-42f2-a0f6-6e3cb495ccbb",
                "tags": []
            },
            "outputs": [],
            "execution_count": null
        },
        {
            "cell_type": "markdown",
            "source": [
                "## Hechos"
            ],
            "metadata": {
                "language": "sql",
                "azdata_cell_guid": "b01b7530-e86d-4305-ad6e-c436e6675d4d"
            },
            "attachments": {}
        },
        {
            "cell_type": "code",
            "source": [
                "-- drop fact_inscripciones\r\n",
                "DROP TABLE IF EXISTS [DW2022].[DW].[fact_inscripciones]\r\n",
                "GO"
            ],
            "metadata": {
                "language": "sql",
                "azdata_cell_guid": "06c71310-e482-4297-a002-be7efc0f42ce",
                "tags": []
            },
            "outputs": [],
            "execution_count": null
        },
        {
            "cell_type": "code",
            "source": [
                "-- create fact_inscripciones\r\n",
                "IF NOT EXISTS (SELECT * FROM sys.tables WHERE [name] = 'fact_inscripciones')\r\n",
                "CREATE TABLE [DW2022].[DW].[fact_inscripciones](\r\n",
                "    [curso_id]       INT NOT NULL,\r\n",
                "    [sala_id]        INT NOT NULL,\r\n",
                "    [profesor_id]    INT NOT NULL,\r\n",
                "    [tiempo_id]      INT NOT NULL,\r\n",
                "    [modalidad]      CHAR(1) NOT NULL,\r\n",
                "    [turno]          CHAR(1) NOT NULL,\r\n",
                "    [inscriptos_m]   INT NOT NULL,\r\n",
                "    [inscriptos_f]   INT NOT NULL,\r\n",
                "    [inscriptos_t]   INT NOT NULL,\r\n",
                "    CONSTRAINT [Fk_Curso_Id] FOREIGN KEY ([curso_id]) REFERENCES [DW2022].[DW].[dim_curso](id),\r\n",
                "    CONSTRAINT [Fk_Sala_Id] FOREIGN KEY ([sala_id]) REFERENCES [DW2022].[DW].[dim_sala](id),\r\n",
                "    CONSTRAINT [Fk_Profesor_Id] FOREIGN KEY ([profesor_id]) REFERENCES [DW2022].[DW].[dim_profesor](id),\r\n",
                "    CONSTRAINT [Fk_Tiempo_Id] FOREIGN KEY ([tiempo_id]) REFERENCES [DW2022].[DW].[dim_time](id),\r\n",
                ")"
            ],
            "metadata": {
                "language": "sql",
                "azdata_cell_guid": "7903e883-375e-4174-8bf1-4dedb47d453f",
                "tags": []
            },
            "outputs": [],
            "execution_count": null
        },
        {
            "cell_type": "markdown",
            "source": [
                "## Staging"
            ],
            "metadata": {
                "language": "sql",
                "azdata_cell_guid": "a52fdc2b-98ba-4259-8515-0434f1476c13"
            },
            "attachments": {}
        },
        {
            "cell_type": "code",
            "source": [
                "-- drop stg_inscripciones\r\n",
                "DROP TABLE IF EXISTS [DW2022].[STG].[stg_inscripciones]\r\n",
                "GO"
            ],
            "metadata": {
                "azdata_cell_guid": "3d95ad26-6b8c-4d3b-8665-f82b87ec7fc2",
                "language": "sql",
                "tags": []
            },
            "outputs": [],
            "execution_count": null
        },
        {
            "cell_type": "code",
            "source": [
                "-- drop stg_inscripciones\r\n",
                "IF NOT EXISTS (SELECT * FROM sys.tables WHERE [name] = 'staging_inscripciones')\r\n",
                "CREATE TABLE [DW2022].[STG].[stg_inscripciones](\r\n",
                "    [curso]         NVARCHAR(50) NOT NULL,\r\n",
                "    [curso_nombre]  NVARCHAR(255) NOT NULL,\r\n",
                "    [instructor]    NVARCHAR(50) NOT NULL,\r\n",
                "    [room]          NVARCHAR(50) NOT NULL,\r\n",
                "    [season]        NVARCHAR(20) NOT NULL,\r\n",
                "    [modalidad]     CHAR(1) NOT NULL,\r\n",
                "    [turno]         CHAR(1) NOT NULL,\r\n",
                "    [male]          INT NOT NULL,\r\n",
                "    [female]        INT NOT NULL,\r\n",
                "    [total]         INT NOT NULL,\r\n",
                "    [anio]          INT NOT NULL,\r\n",
                ")"
            ],
            "metadata": {
                "language": "sql",
                "azdata_cell_guid": "f6e788e9-1cea-4012-96ba-32f185e11a74",
                "tags": []
            },
            "outputs": [],
            "execution_count": null
        }
    ]
}